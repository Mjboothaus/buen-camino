{
 "cells": [
  {
   "cell_type": "raw",
   "metadata": {},
   "source": [
    "---\n",
    "title: \"Camino Mapping Dashboard\"\n",
    "author: \"Michael Booth\"\n",
    "format: dashboard\n",
    "nav-buttons:\n",
    "    - icon: github\n",
    "      href: https://github.com/databooth\n",
    "server: shiny\n",
    "\n",
    "---"
   ]
  },
  {
   "cell_type": "code",
   "execution_count": 1,
   "metadata": {},
   "outputs": [],
   "source": [
    "#import json\n",
    "#import pprint\n",
    "from pathlib import Path\n",
    "from functools import cache\n",
    "from IPython.display import display\n",
    "\n",
    "from shiny import render, ui\n",
    "\n",
    "\n",
    "import duckdb\n",
    "import folium\n",
    "import pandas as pd\n",
    "import shiny"
   ]
  },
  {
   "cell_type": "code",
   "execution_count": 2,
   "metadata": {},
   "outputs": [],
   "source": [
    "HEALTHKIT_DB = \"../data/healthkit-sqlite-2023-11-17-fix.db\""
   ]
  },
  {
   "cell_type": "code",
   "execution_count": 3,
   "metadata": {},
   "outputs": [],
   "source": [
    "CAMINO_SQL = \"\"\"\n",
    "    SELECT id, duration, sourceName, creationDate, startDate, endDate, workout_statistics, device \n",
    "    FROM workouts \n",
    "    WHERE sourceName != 'AllTrails' \n",
    "    AND (\n",
    "        (startDate >= '2023-10-10' AND startDate <= '2023-10-17' AND duration > 100) \n",
    "        OR \n",
    "        (startDate >= '2023-10-16' AND startDate <= '2023-10-17' AND duration < 100)\n",
    "    )\n",
    "    \"\"\""
   ]
  },
  {
   "cell_type": "code",
   "execution_count": 4,
   "metadata": {},
   "outputs": [],
   "source": [
    "WALK_SQL = \"\"\"\n",
    "    SELECT * FROM workout_points \n",
    "    WHERE workout_id = 'WORKOUT_ID'\n",
    "    \"\"\""
   ]
  },
  {
   "cell_type": "code",
   "execution_count": 5,
   "metadata": {},
   "outputs": [],
   "source": [
    "CAMINO_STATS_SQL = \"\"\"\n",
    "    SELECT * FROM workouts WHERE sourceName != 'AllTrails' AND startDate >= '2023-10-16' AND startDate <= '2023-10-17' \n",
    "    AND duration < 100\n",
    "    \"\"\""
   ]
  },
  {
   "cell_type": "code",
   "execution_count": 6,
   "metadata": {},
   "outputs": [],
   "source": [
    "if Path(HEALTHKIT_DB).exists():\n",
    "    con = duckdb.connect(HEALTHKIT_DB)\n",
    "    con.install_extension(\"sqlite\")\n",
    "    con.load_extension(\"sqlite\")"
   ]
  },
  {
   "cell_type": "code",
   "execution_count": 7,
   "metadata": {},
   "outputs": [],
   "source": [
    "con.sql(\"PRAGMA show_tables\").to_df() ;"
   ]
  },
  {
   "cell_type": "code",
   "execution_count": 8,
   "metadata": {},
   "outputs": [],
   "source": [
    "stats_df = con.sql(CAMINO_STATS_SQL).to_df()\n",
    "# pprint.pprint(stats_df[\"workout_statistics\"].iloc[0]) \n",
    "# json.loads(stats_df[\"workout_statistics\"].iloc[0])[0]"
   ]
  },
  {
   "cell_type": "code",
   "execution_count": 9,
   "metadata": {},
   "outputs": [],
   "source": [
    "workouts_df = con.sql(CAMINO_SQL).to_df()"
   ]
  },
  {
   "cell_type": "code",
   "execution_count": 10,
   "metadata": {},
   "outputs": [],
   "source": [
    "@cache\n",
    "def get_walk_data(id):\n",
    "    \"\"\"\n",
    "    Fetch and process walk data for a given ID.\n",
    "    This function is cached to avoid repeated database queries for the same ID.\n",
    "    \"\"\"\n",
    "    walk_df = con.sql(WALK_SQL.replace(\"WORKOUT_ID\", id)).to_df()\n",
    "    # Any additional processing can be done here\n",
    "    return walk_df"
   ]
  },
  {
   "cell_type": "code",
   "execution_count": 11,
   "metadata": {},
   "outputs": [],
   "source": [
    "walk_ids = workouts_df[\"id\"].values.tolist()[1:]   # Discard evening walk in San Sebastin"
   ]
  },
  {
   "cell_type": "code",
   "execution_count": 12,
   "metadata": {},
   "outputs": [],
   "source": [
    "def load_walk_data(walk_ids):\n",
    "    for i, id in enumerate(walk_ids):\n",
    "        #print(f\"#{i+1} - Getting data for walk ID: {id}\")\n",
    "        get_walk_data(id)\n",
    "    return None"
   ]
  },
  {
   "cell_type": "code",
   "execution_count": 13,
   "metadata": {},
   "outputs": [],
   "source": [
    "load_walk_data(walk_ids)"
   ]
  },
  {
   "cell_type": "code",
   "execution_count": 14,
   "metadata": {},
   "outputs": [],
   "source": [
    "def update_map(m, df, colour=\"blue\", line_width=3.5):\n",
    "    points = df[[\"latitude\", \"longitude\"]].values.tolist()\n",
    "    folium.PolyLine(points, color=colour, weight=line_width, opacity=1).add_to(m)\n",
    "    folium.Marker([df[\"latitude\"].iloc[0], df[\"longitude\"].iloc[0]]).add_to(m)\n",
    "    return m"
   ]
  },
  {
   "cell_type": "markdown",
   "metadata": {},
   "source": [
    "# Camino del Norte - Mapping"
   ]
  },
  {
   "cell_type": "code",
   "execution_count": 15,
   "metadata": {},
   "outputs": [],
   "source": [
    "def create_walk_map(walk_ids, colour, line_width):\n",
    "    m = folium.Map(location=[43.3183, -1.9812], zoom_start=12, tiles=\"openstreetmap\")\n",
    "    for id in walk_ids:\n",
    "        walk_df = get_walk_data(id)  # Use the cached function\n",
    "        m = update_map(m, walk_df, colour, line_width)\n",
    "    m.fit_bounds(m.get_bounds())\n",
    "    return m"
   ]
  },
  {
   "cell_type": "code",
   "execution_count": 16,
   "metadata": {},
   "outputs": [
    {
     "data": {
      "text/html": [
       "<div class=\"form-group shiny-input-container\">\n",
       "  <label class=\"control-label\" id=\"line_color-label\" for=\"line_color\">Choose Line Color</label>\n",
       "  <div>\n",
       "    <select class=\"shiny-input-select form-select\" id=\"line_color\">      <option value=\"red\" selected=\"\">red</option>\n",
       "      <option value=\"blue\">blue</option>\n",
       "      <option value=\"green\">green</option>\n",
       "      <option value=\"yellow\">yellow</option></select>\n",
       "  </div>\n",
       "</div>"
      ],
      "text/plain": [
       "<div class=\"form-group shiny-input-container\">\n",
       "  <label class=\"control-label\" id=\"line_color-label\" for=\"line_color\">Choose Line Color</label>\n",
       "  <div>\n",
       "    <select class=\"shiny-input-select form-select\" id=\"line_color\">      <option value=\"red\" selected=\"\">red</option>\n",
       "      <option value=\"blue\">blue</option>\n",
       "      <option value=\"green\">green</option>\n",
       "      <option value=\"yellow\">yellow</option></select>\n",
       "  </div>\n",
       "</div>"
      ]
     },
     "execution_count": 70,
     "metadata": {},
     "output_type": "execute_result"
    },
    {
     "data": {
      "text/html": [
       "<div class=\"form-group shiny-input-container\">\n",
       "  <label class=\"control-label\" id=\"line_width-label\" for=\"line_width\">Select Line Width</label><input class=\"js-range-slider\" id=\"line_width\" data-skin=\"shiny\" data-min=\"1\" data-max=\"10\" data-from=\"3\" data-step=\"1\" data-grid=\"false\" data-grid-snap=\"false\" data-prettify-separator=\",\" data-prettify-enabled=\"true\" data-keyboard=\"true\" data-data-type=\"number\"/>\n",
       "</div><script type=\"application/json\" data-html-dependency=\"\">{\"name\": \"ionrangeslider\", \"version\": \"2.3.1\", \"source\": {\"package\": \"shiny\", \"subdir\": \"www/shared/ionrangeslider/\"}, \"script\": [{\"src\": \"js/ion.rangeSlider.min.js\"}], \"stylesheet\": [], \"meta\": [], \"all_files\": false, \"head\": null}</script>\n",
       "<script type=\"application/json\" data-html-dependency=\"\">{\"name\": \"preset-shiny-ionrangeslider\", \"version\": \"1.8.0.9000\", \"source\": {\"package\": \"shiny\", \"subdir\": \"www/shared/ionrangeslider/\"}, \"script\": [], \"stylesheet\": [{\"href\": \"css/ion.rangeSlider.css\", \"rel\": \"stylesheet\"}], \"meta\": [], \"all_files\": false, \"head\": null}</script>\n",
       "<script type=\"application/json\" data-html-dependency=\"\">{\"name\": \"strftime\", \"version\": \"0.9.2\", \"source\": {\"package\": \"shiny\", \"subdir\": \"www/shared/strftime/\"}, \"script\": [{\"src\": \"strftime-min.js\"}], \"stylesheet\": [], \"meta\": [], \"all_files\": false, \"head\": null}</script>"
      ],
      "text/plain": [
       "<div class=\"form-group shiny-input-container\">\n",
       "  <label class=\"control-label\" id=\"line_width-label\" for=\"line_width\">Select Line Width</label><input class=\"js-range-slider\" id=\"line_width\" data-skin=\"shiny\" data-min=\"1\" data-max=\"10\" data-from=\"3\" data-step=\"1\" data-grid=\"false\" data-grid-snap=\"false\" data-prettify-separator=\",\" data-prettify-enabled=\"true\" data-keyboard=\"true\" data-data-type=\"number\"/>\n",
       "</div><script type=\"application/json\" data-html-dependency=\"\">{\"name\": \"ionrangeslider\", \"version\": \"2.3.1\", \"source\": {\"package\": \"shiny\", \"subdir\": \"www/shared/ionrangeslider/\"}, \"script\": [{\"src\": \"js/ion.rangeSlider.min.js\"}], \"stylesheet\": [], \"meta\": [], \"all_files\": false, \"head\": null}</script>\n",
       "<script type=\"application/json\" data-html-dependency=\"\">{\"name\": \"preset-shiny-ionrangeslider\", \"version\": \"1.8.0.9000\", \"source\": {\"package\": \"shiny\", \"subdir\": \"www/shared/ionrangeslider/\"}, \"script\": [], \"stylesheet\": [{\"href\": \"css/ion.rangeSlider.css\", \"rel\": \"stylesheet\"}], \"meta\": [], \"all_files\": false, \"head\": null}</script>\n",
       "<script type=\"application/json\" data-html-dependency=\"\">{\"name\": \"strftime\", \"version\": \"0.9.2\", \"source\": {\"package\": \"shiny\", \"subdir\": \"www/shared/strftime/\"}, \"script\": [{\"src\": \"strftime-min.js\"}], \"stylesheet\": [], \"meta\": [], \"all_files\": false, \"head\": null}</script>"
      ]
     },
     "execution_count": 70,
     "metadata": {},
     "output_type": "execute_result"
    }
   ],
   "source": [
    "## {.sidebar}\n",
    "\n",
    "ui.input_select(\"line_color\", \"Choose Line Color\", choices=[\"red\", \"blue\", \"green\", \"yellow\"])\n",
    "ui.input_slider(\"line_width\", \"Select Line Width\", min=1, max=10, value=3)"
   ]
  },
  {
   "cell_type": "markdown",
   "metadata": {},
   "source": [
    "## Camino map"
   ]
  },
  {
   "cell_type": "code",
   "execution_count": 17,
   "metadata": {},
   "outputs": [],
   "source": [
    "#@render.plot\n",
    "def display_map_ui():\n",
    "    try:\n",
    "        colour = input.line_color()\n",
    "        width = input.line_width()\n",
    "    except:\n",
    "        colour = \"blue\"\n",
    "        width = 3 \n",
    "    map = create_walk_map(walk_ids, colour, width)\n",
    "    display(map)"
   ]
  },
  {
   "cell_type": "code",
   "execution_count": 18,
   "metadata": {},
   "outputs": [],
   "source": [
    "# display_map_ui() if removing decorator to check in notebook"
   ]
  },
  {
   "cell_type": "code",
   "execution_count": 19,
   "metadata": {},
   "outputs": [],
   "source": []
  }
 ],
 "metadata": {
  "kernelspec": {
   "display_name": ".venv",
   "language": "python",
   "name": "python3"
  },
  "language_info": {
   "codemirror_mode": {
    "name": "ipython",
    "version": 3
   },
   "file_extension": ".py",
   "mimetype": "text/x-python",
   "name": "python",
   "nbconvert_exporter": "python",
   "pygments_lexer": "ipython3",
   "version": "3.11.6"
  },
  "widgets": {
   "application/vnd.jupyter.widget-state+json": {
    "state": {
     "38c11fd004d84cdcae0b421c1904fe49": {
      "model_module": "@jupyter-widgets/base",
      "model_module_version": "2.0.0",
      "model_name": "LayoutModel",
      "state": {
       "_model_module": "@jupyter-widgets/base",
       "_model_module_version": "2.0.0",
       "_model_name": "LayoutModel",
       "_view_count": null,
       "_view_module": "@jupyter-widgets/base",
       "_view_module_version": "2.0.0",
       "_view_name": "LayoutView",
       "align_content": null,
       "align_items": null,
       "align_self": null,
       "border_bottom": null,
       "border_left": null,
       "border_right": null,
       "border_top": null,
       "bottom": null,
       "display": null,
       "flex": null,
       "flex_flow": null,
       "grid_area": null,
       "grid_auto_columns": null,
       "grid_auto_flow": null,
       "grid_auto_rows": null,
       "grid_column": null,
       "grid_gap": null,
       "grid_row": null,
       "grid_template_areas": null,
       "grid_template_columns": null,
       "grid_template_rows": null,
       "height": null,
       "justify_content": null,
       "justify_items": null,
       "left": null,
       "margin": null,
       "max_height": null,
       "max_width": null,
       "min_height": null,
       "min_width": null,
       "object_fit": null,
       "object_position": null,
       "order": null,
       "overflow": null,
       "padding": null,
       "right": null,
       "top": null,
       "visibility": null,
       "width": "auto"
      }
     },
     "513ecc9444564182a3bf57880c3b7c00": {
      "model_module": "@jupyter-widgets/controls",
      "model_module_version": "2.0.0",
      "model_name": "ProgressStyleModel",
      "state": {
       "_model_module": "@jupyter-widgets/controls",
       "_model_module_version": "2.0.0",
       "_model_name": "ProgressStyleModel",
       "_view_count": null,
       "_view_module": "@jupyter-widgets/base",
       "_view_module_version": "2.0.0",
       "_view_name": "StyleView",
       "bar_color": "black",
       "description_width": ""
      }
     },
     "69a9fe15172f4e7da78ccd345b7a1db7": {
      "model_module": "@jupyter-widgets/controls",
      "model_module_version": "2.0.0",
      "model_name": "ProgressStyleModel",
      "state": {
       "_model_module": "@jupyter-widgets/controls",
       "_model_module_version": "2.0.0",
       "_model_name": "ProgressStyleModel",
       "_view_count": null,
       "_view_module": "@jupyter-widgets/base",
       "_view_module_version": "2.0.0",
       "_view_name": "StyleView",
       "bar_color": "black",
       "description_width": ""
      }
     },
     "9a9e6e91275b45319821a6ebcc801497": {
      "model_module": "@jupyter-widgets/controls",
      "model_module_version": "2.0.0",
      "model_name": "FloatProgressModel",
      "state": {
       "_dom_classes": [],
       "_model_module": "@jupyter-widgets/controls",
       "_model_module_version": "2.0.0",
       "_model_name": "FloatProgressModel",
       "_view_count": null,
       "_view_module": "@jupyter-widgets/controls",
       "_view_module_version": "2.0.0",
       "_view_name": "ProgressView",
       "bar_style": "",
       "description": "",
       "description_allow_html": false,
       "layout": "IPY_MODEL_bebb7cbe5dce4a4dba5348ceee1ee5bf",
       "max": 100.0,
       "min": 0.0,
       "orientation": "horizontal",
       "style": "IPY_MODEL_513ecc9444564182a3bf57880c3b7c00",
       "tabbable": null,
       "tooltip": null,
       "value": 100.0
      }
     },
     "bebb7cbe5dce4a4dba5348ceee1ee5bf": {
      "model_module": "@jupyter-widgets/base",
      "model_module_version": "2.0.0",
      "model_name": "LayoutModel",
      "state": {
       "_model_module": "@jupyter-widgets/base",
       "_model_module_version": "2.0.0",
       "_model_name": "LayoutModel",
       "_view_count": null,
       "_view_module": "@jupyter-widgets/base",
       "_view_module_version": "2.0.0",
       "_view_name": "LayoutView",
       "align_content": null,
       "align_items": null,
       "align_self": null,
       "border_bottom": null,
       "border_left": null,
       "border_right": null,
       "border_top": null,
       "bottom": null,
       "display": null,
       "flex": null,
       "flex_flow": null,
       "grid_area": null,
       "grid_auto_columns": null,
       "grid_auto_flow": null,
       "grid_auto_rows": null,
       "grid_column": null,
       "grid_gap": null,
       "grid_row": null,
       "grid_template_areas": null,
       "grid_template_columns": null,
       "grid_template_rows": null,
       "height": null,
       "justify_content": null,
       "justify_items": null,
       "left": null,
       "margin": null,
       "max_height": null,
       "max_width": null,
       "min_height": null,
       "min_width": null,
       "object_fit": null,
       "object_position": null,
       "order": null,
       "overflow": null,
       "padding": null,
       "right": null,
       "top": null,
       "visibility": null,
       "width": "auto"
      }
     },
     "cfc888265a3340538245e318c1c3d38b": {
      "model_module": "@jupyter-widgets/controls",
      "model_module_version": "2.0.0",
      "model_name": "FloatProgressModel",
      "state": {
       "_dom_classes": [],
       "_model_module": "@jupyter-widgets/controls",
       "_model_module_version": "2.0.0",
       "_model_name": "FloatProgressModel",
       "_view_count": null,
       "_view_module": "@jupyter-widgets/controls",
       "_view_module_version": "2.0.0",
       "_view_name": "ProgressView",
       "bar_style": "",
       "description": "",
       "description_allow_html": false,
       "layout": "IPY_MODEL_38c11fd004d84cdcae0b421c1904fe49",
       "max": 100.0,
       "min": 0.0,
       "orientation": "horizontal",
       "style": "IPY_MODEL_69a9fe15172f4e7da78ccd345b7a1db7",
       "tabbable": null,
       "tooltip": null,
       "value": 100.0
      }
     }
    },
    "version_major": 2,
    "version_minor": 0
   }
  }
 },
 "nbformat": 4,
 "nbformat_minor": 2
}
