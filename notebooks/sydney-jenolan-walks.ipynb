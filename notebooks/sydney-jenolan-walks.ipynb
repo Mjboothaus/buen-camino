{
 "cells": [
  {
   "cell_type": "code",
   "execution_count": null,
   "metadata": {},
   "outputs": [],
   "source": [
    "from functools import cache\n",
    "from pathlib import Path\n",
    "\n",
    "import duckdb\n",
    "import folium\n",
    "import pandas as pd\n",
    "from haversine import haversine\n",
    "from itables import init_notebook_mode\n",
    "from loguru import logger\n",
    "from tqdm.notebook import tqdm"
   ]
  },
  {
   "cell_type": "code",
   "execution_count": null,
   "metadata": {},
   "outputs": [],
   "source": [
    "init_notebook_mode(all_interactive=True)"
   ]
  },
  {
   "cell_type": "code",
   "execution_count": null,
   "metadata": {},
   "outputs": [],
   "source": [
    "# !python src/example_package/healthkit_to_sqlite.py /Users/mjboothaus/icloud/Data/apple_health_export/export_2024_03_25.zip ./data/healthkit-2024-03-25-fix.db"
   ]
  },
  {
   "cell_type": "code",
   "execution_count": null,
   "metadata": {},
   "outputs": [],
   "source": [
    "# This file was produced by the (commented) command above\n",
    "\n",
    "HEALTH_DB = \"../data/healthkit-2024-03-25-fix.db\""
   ]
  },
  {
   "cell_type": "code",
   "execution_count": null,
   "metadata": {},
   "outputs": [],
   "source": [
    "assert Path(HEALTH_DB).exists()"
   ]
  },
  {
   "cell_type": "code",
   "execution_count": null,
   "metadata": {},
   "outputs": [],
   "source": [
    "con = duckdb.connect(HEALTH_DB)\n",
    "con.install_extension(\"sqlite\")\n",
    "con.load_extension(\"sqlite\")"
   ]
  },
  {
   "cell_type": "code",
   "execution_count": null,
   "metadata": {},
   "outputs": [],
   "source": [
    "con.sql(\"PRAGMA show_tables\");"
   ]
  },
  {
   "cell_type": "code",
   "execution_count": null,
   "metadata": {},
   "outputs": [],
   "source": [
    "walk_dates = [\n",
    "    \"2020-05-11\",\n",
    "    \"2020-05-18\",\n",
    "    \"2020-05-25\",\n",
    "    \"2020-06-01\",\n",
    "    \"2021-03-02\",\n",
    "    \"2021-03-12\",\n",
    "    \"2021-04-03\",\n",
    "    \"2021-10-15\",\n",
    "    \"2021-10-29\",\n",
    "    \"2023-05-23\",\n",
    "    \"2024-02-26\",\n",
    "    \"2024-02-27\",\n",
    "]\n",
    "all_dates = \"', '\".join(walk_dates)"
   ]
  },
  {
   "cell_type": "code",
   "execution_count": null,
   "metadata": {},
   "outputs": [],
   "source": [
    "walks_sql = f\"\"\"\n",
    "SELECT * FROM workouts \n",
    "WHERE sourceName != 'AllTrails' \n",
    "AND LEFT(startDate, 10) IN ('{all_dates}') \n",
    "AND duration >= 40\n",
    "\"\"\".replace(\n",
    "    \"\\n\", \"\"\n",
    ")"
   ]
  },
  {
   "cell_type": "code",
   "execution_count": null,
   "metadata": {},
   "outputs": [],
   "source": [
    "walks_df = con.sql(walks_sql).to_df()"
   ]
  },
  {
   "cell_type": "code",
   "execution_count": null,
   "metadata": {},
   "outputs": [],
   "source": [
    "walks_df"
   ]
  },
  {
   "cell_type": "code",
   "execution_count": null,
   "metadata": {},
   "outputs": [],
   "source": [
    "walk_id = con.sql(walks_sql.replace(\"*\", \"id\")).to_df()"
   ]
  },
  {
   "cell_type": "code",
   "execution_count": null,
   "metadata": {},
   "outputs": [],
   "source": [
    "walk_ids = walk_id[\"id\"].values.tolist()"
   ]
  },
  {
   "cell_type": "code",
   "execution_count": null,
   "metadata": {},
   "outputs": [],
   "source": [
    "def update_map(m, df, n=10):\n",
    "    \"\"\"\n",
    "    Update the map with points from the DataFrame.\n",
    "\n",
    "    Parameters:\n",
    "    - m: The map object to update.\n",
    "    - df: The DataFrame containing latitude and longitude columns.\n",
    "    - n: Downsampling factor, indicating how many rows to skip. Default is 10, meaning every 10th row is taken.\n",
    "    \"\"\"\n",
    "    # Downsample the DataFrame by taking every nth row\n",
    "    df_downsampled = df.iloc[::n, :]\n",
    "\n",
    "    points = df_downsampled[[\"latitude\", \"longitude\"]].values.tolist()\n",
    "    folium.PolyLine(points, color=\"blue\", weight=3.5, opacity=1).add_to(m)\n",
    "    folium.Marker(\n",
    "        [df[\"latitude\"].iloc[0], df[\"longitude\"].iloc[0]], icon=folium.Icon(color=\"green\")\n",
    "    ).add_to(m)\n",
    "    folium.Marker(\n",
    "        [df[\"latitude\"].iloc[-1], df[\"longitude\"].iloc[-1]], icon=folium.Icon(color=\"red\")\n",
    "    ).add_to(m)\n",
    "    return m"
   ]
  },
  {
   "cell_type": "code",
   "execution_count": null,
   "metadata": {},
   "outputs": [],
   "source": [
    "@cache\n",
    "def get_walk_data_for_id(con, id):\n",
    "    walk_sql = \"SELECT * FROM workout_points WHERE workout_id = 'WORKOUT_ID'\"\n",
    "    return con.sql(walk_sql.replace(\"WORKOUT_ID\", id)).to_df()"
   ]
  },
  {
   "cell_type": "code",
   "execution_count": null,
   "metadata": {},
   "outputs": [],
   "source": [
    "def create_map(walk_ids, con, SCALAR=1.00001):\n",
    "    all_walks_df = {}\n",
    "    m = folium.Map(location=[43.3183, -1.9812], zoom_start=12, tiles=\"openstreetmap\")\n",
    "    for id in tqdm(walk_ids, total=len(walk_ids)):\n",
    "        logger.info(f\"Getting data for walk ID: {id}\")\n",
    "        walk_df = get_walk_data_for_id(con, id)\n",
    "        all_walks_df[id] = walk_df\n",
    "        m = update_map(m, walk_df)\n",
    "        bounds = m.get_bounds()\n",
    "        scaled_bounds = [\n",
    "            [bounds[0][0] / SCALAR, bounds[0][1] / SCALAR],\n",
    "            [bounds[1][0] * SCALAR, bounds[1][1] * SCALAR],\n",
    "        ]\n",
    "        m.fit_bounds(scaled_bounds)\n",
    "    return m, all_walks_df, bounds"
   ]
  },
  {
   "cell_type": "code",
   "execution_count": null,
   "metadata": {},
   "outputs": [],
   "source": [
    "m, all_walks_df, bounds = create_map(walk_ids, con)"
   ]
  },
  {
   "cell_type": "code",
   "execution_count": null,
   "metadata": {},
   "outputs": [],
   "source": [
    "# m"
   ]
  },
  {
   "cell_type": "code",
   "execution_count": null,
   "metadata": {},
   "outputs": [],
   "source": [
    "@cache\n",
    "def get_walk_start_end_locations(con):\n",
    "    query = \"\"\"\n",
    "    SELECT DISTINCT\n",
    "        workout_id as id,\n",
    "        start_latitude,\n",
    "        start_longitude,\n",
    "        end_latitude,\n",
    "        end_longitude\n",
    "    FROM (\n",
    "        SELECT \n",
    "            workout_id,\n",
    "            FIRST_VALUE(latitude) OVER (PARTITION BY workout_id ORDER BY date) AS start_latitude,\n",
    "            FIRST_VALUE(longitude) OVER (PARTITION BY workout_id ORDER BY date) AS start_longitude,\n",
    "            LAST_VALUE(latitude) OVER (PARTITION BY workout_id ORDER BY date ROWS BETWEEN UNBOUNDED PRECEDING AND UNBOUNDED FOLLOWING) AS end_latitude,\n",
    "            LAST_VALUE(longitude) OVER (PARTITION BY workout_id ORDER BY date ROWS BETWEEN UNBOUNDED PRECEDING AND UNBOUNDED FOLLOWING) AS end_longitude\n",
    "        FROM workout_points\n",
    "    ) AS subquery;\n",
    "\"\"\"\n",
    "    return con.sql(query).to_df()"
   ]
  },
  {
   "cell_type": "code",
   "execution_count": null,
   "metadata": {},
   "outputs": [],
   "source": [
    "walk_start_end_df = get_walk_start_end_locations(con)"
   ]
  },
  {
   "cell_type": "code",
   "execution_count": null,
   "metadata": {},
   "outputs": [],
   "source": [
    "def find_nearby_walks(walks_df, reference_walk_id, location=\"start\", max_distance_km=1):\n",
    "    \"\"\"\n",
    "    Find walks within a specified distance from the start or end location of a reference walk.\n",
    "\n",
    "    Parameters:\n",
    "    - walks_df: DataFrame containing walks data with columns ['id', 'start_latitude', 'start_longitude', 'end_latitude', 'end_longitude']\n",
    "    - reference_walk_id: The ID of the reference walk.\n",
    "    - location: 'start' or 'end' to use the start or end location of the reference walk.\n",
    "    - max_distance_km: The maximum distance in kilometers to consider a walk as nearby.\n",
    "\n",
    "    Returns:\n",
    "    - A list of walk IDs that are within the specified distance from the reference location.\n",
    "    \"\"\"\n",
    "    # Extract the reference location.\n",
    "    reference_row = walks_df.loc[walks_df[\"id\"] == reference_walk_id]\n",
    "    if location == \"start\":\n",
    "        reference_point = (\n",
    "            reference_row[\"start_latitude\"].values[0],\n",
    "            reference_row[\"start_longitude\"].values[0],\n",
    "        )\n",
    "    else:  # 'end'\n",
    "        reference_point = (\n",
    "            reference_row[\"end_latitude\"].values[0],\n",
    "            reference_row[\"end_longitude\"].values[0],\n",
    "        )\n",
    "\n",
    "    # Calculate distances and filter walks.\n",
    "    nearby_walks = []\n",
    "    for _, row in walks_df.iterrows():\n",
    "        if location == \"start\":\n",
    "            walk_point = (row[\"start_latitude\"], row[\"start_longitude\"])\n",
    "        else:  # 'end'\n",
    "            walk_point = (row[\"end_latitude\"], row[\"end_longitude\"])\n",
    "\n",
    "        distance = haversine(reference_point, walk_point)\n",
    "        if distance <= max_distance_km and row[\"id\"] != reference_walk_id:\n",
    "            nearby_walks.append((row[\"id\"], distance))\n",
    "\n",
    "    return nearby_walks, reference_walk_id"
   ]
  },
  {
   "cell_type": "code",
   "execution_count": null,
   "metadata": {},
   "outputs": [],
   "source": [
    "nearby_walks, ref_walk_id = find_nearby_walks(\n",
    "    walk_start_end_df, \"e0db8356ce08a6e309cd9501916310c70f6f9fca\", max_distance_km=8.0\n",
    ")"
   ]
  },
  {
   "cell_type": "code",
   "execution_count": null,
   "metadata": {},
   "outputs": [],
   "source": [
    "nearby_walks"
   ]
  },
  {
   "cell_type": "code",
   "execution_count": null,
   "metadata": {},
   "outputs": [],
   "source": [
    "ref_walk_id"
   ]
  },
  {
   "cell_type": "code",
   "execution_count": null,
   "metadata": {},
   "outputs": [],
   "source": [
    "def plot_walks_and_nearby(con, reference_walk_id, nearby_walks_info, SCALAR=1.0001):\n",
    "    \"\"\"\n",
    "    Plots the specified walk and nearby walks on a map.\n",
    "\n",
    "    Parameters:\n",
    "    - reference_walk_id: The ID of the reference walk.\n",
    "    - nearby_walks_info: A list of tuples (walk_id, distance_km) for nearby walks.\n",
    "    \"\"\"\n",
    "    # Extract reference walk location.\n",
    "    reference_walk = get_walk_data_for_id(con, reference_walk_id)\n",
    "    ref_lat, ref_lon = reference_walk[[\"latitude\", \"longitude\"]].values[0]\n",
    "\n",
    "    # Create a map centered around the reference walk.\n",
    "    m = folium.Map(location=[ref_lat, ref_lon], zoom_start=12)\n",
    "\n",
    "    # Plot the reference walk in blue.\n",
    "    folium.Marker(\n",
    "        [ref_lat, ref_lon], popup=f\"ID: {reference_walk_id}\", icon=folium.Icon(color=\"blue\")\n",
    "    ).add_to(m)\n",
    "\n",
    "    # Plot nearby walks in red.\n",
    "    for walk_id, distance_km in nearby_walks_info:\n",
    "        walk = get_walk_data_for_id(con, walk_id)\n",
    "        # walk = walks_df.loc[walks_df['id'] == walk_id]\n",
    "        lat, lon = walk[[\"latitude\", \"longitude\"]].values[0]\n",
    "        folium.Marker(\n",
    "            [lat, lon], popup=f\"ID: {walk_id}, Dist: {distance_km:.2f} km\", icon=folium.Icon(color=\"red\")\n",
    "        ).add_to(m)\n",
    "    bounds = m.get_bounds()\n",
    "    scaled_bounds = [\n",
    "        [bounds[0][0] / SCALAR, bounds[0][1] / SCALAR],\n",
    "        [bounds[1][0] * SCALAR, bounds[1][1] * SCALAR],\n",
    "    ]\n",
    "    m.fit_bounds(scaled_bounds)\n",
    "    return m"
   ]
  },
  {
   "cell_type": "code",
   "execution_count": null,
   "metadata": {},
   "outputs": [],
   "source": [
    "m = plot_walks_and_nearby(con, ref_walk_id, nearby_walks)"
   ]
  },
  {
   "cell_type": "code",
   "execution_count": null,
   "metadata": {},
   "outputs": [],
   "source": [
    "m"
   ]
  },
  {
   "cell_type": "code",
   "execution_count": null,
   "metadata": {},
   "outputs": [],
   "source": []
  }
 ],
 "metadata": {
  "kernelspec": {
   "display_name": ".venv",
   "language": "python",
   "name": "python3"
  },
  "language_info": {
   "codemirror_mode": {
    "name": "ipython",
    "version": 3
   },
   "file_extension": ".py",
   "mimetype": "text/x-python",
   "name": "python",
   "nbconvert_exporter": "python",
   "pygments_lexer": "ipython3",
   "version": "3.11.6"
  }
 },
 "nbformat": 4,
 "nbformat_minor": 2
}
