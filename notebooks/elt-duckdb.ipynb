{
 "cells": [
  {
   "cell_type": "code",
   "execution_count": null,
   "metadata": {},
   "outputs": [],
   "source": [
    "import duckdb\n",
    "import pandas as pd\n",
    "import folium"
   ]
  },
  {
   "cell_type": "code",
   "execution_count": null,
   "metadata": {},
   "outputs": [],
   "source": [
    "HEALTH_DB = \"../data/healthkit-sqlite-2023-11-17.db\""
   ]
  },
  {
   "cell_type": "code",
   "execution_count": null,
   "metadata": {},
   "outputs": [],
   "source": [
    "con = duckdb.connect(HEALTH_DB)"
   ]
  },
  {
   "cell_type": "code",
   "execution_count": null,
   "metadata": {},
   "outputs": [],
   "source": [
    "con.install_extension(\"sqlite\")"
   ]
  },
  {
   "cell_type": "code",
   "execution_count": null,
   "metadata": {},
   "outputs": [],
   "source": [
    "con.load_extension(\"sqlite\")"
   ]
  },
  {
   "cell_type": "code",
   "execution_count": null,
   "metadata": {},
   "outputs": [],
   "source": [
    "con.sql(\"PRAGMA show_tables\")"
   ]
  },
  {
   "cell_type": "code",
   "execution_count": null,
   "metadata": {},
   "outputs": [],
   "source": [
    "camino_sql = \"SELECT * from workouts WHERE sourceName != 'AllTrails' AND startDate >= '2023-10-10' AND startDate <= '2023-10-17' AND duration > 100\""
   ]
  },
  {
   "cell_type": "code",
   "execution_count": null,
   "metadata": {},
   "outputs": [],
   "source": [
    "camino_bilbao_sql = \"SELECT * from workouts WHERE sourceName != 'AllTrails' AND startDate >= '2023-10-16' AND startDate <= '2023-10-17' AND duration < 100\""
   ]
  },
  {
   "cell_type": "code",
   "execution_count": null,
   "metadata": {},
   "outputs": [],
   "source": [
    "workouts_df = con.sql(camino_sql).to_df()"
   ]
  },
  {
   "cell_type": "code",
   "execution_count": null,
   "metadata": {},
   "outputs": [],
   "source": [
    "bilbao_df = con.sql(camino_bilbao_sql).to_df()"
   ]
  },
  {
   "cell_type": "code",
   "execution_count": null,
   "metadata": {},
   "outputs": [],
   "source": [
    "bilbao_df"
   ]
  },
  {
   "cell_type": "code",
   "execution_count": null,
   "metadata": {},
   "outputs": [],
   "source": [
    "workouts_df.info()"
   ]
  },
  {
   "cell_type": "code",
   "execution_count": null,
   "metadata": {},
   "outputs": [],
   "source": [
    "workouts_df.columns"
   ]
  },
  {
   "cell_type": "code",
   "execution_count": null,
   "metadata": {},
   "outputs": [],
   "source": [
    "drop_cols = [\n",
    "    \"workoutActivityType\",\n",
    "    \"durationUnit\",\n",
    "    \"sourceVersion\",\n",
    "    \"metadata_HKGroupFitness\",\n",
    "    \"metadata_HKWorkoutBrandName\",\n",
    "    \"metadata_HKTimeZone\",\n",
    "    \"metadata_HKCoachedWorkout\",\n",
    "    \"metadata_HKWasUserEntered\",\n",
    "    \"workout_events\",\n",
    "    \"metadata_HKWeatherTemperature\",\n",
    "    \"metadata_HKWeatherHumidity\",\n",
    "    \"metadata_HKIndoorWorkout\",\n",
    "    \"metadata_HKElevationAscended\",\n",
    "    \"metadata_HKSwimmingLocationType\",\n",
    "    \"metadata_HKAverageMETs\",\n",
    "    \"metadata_HEALTHFIT_SUB_SPORT\",\n",
    "    \"metadata_HEALTHFIT_ROUTE\",\n",
    "    \"metadata_HEALTHFIT_FILE_TYPE\",\n",
    "    \"metadata_HKMaximumSpeed\",\n",
    "    \"metadata_HEALTHFIT_TOTAL_MOVING_TIME\",\n",
    "    \"metadata_HEALTHFIT_TOTAL_DISTANCE\",\n",
    "    \"metadata_HEALTHFIT_MAX_RUNNING_CADENCE\",\n",
    "    \"metadata_HEALTHFIT_MIN_ALTITUDE\",\n",
    "    \"metadata_HEALTHFIT_AVG_RUNNING_CADENCE\",\n",
    "    \"metadata_HEALTHFIT_APP_BUILD\",\n",
    "    \"metadata_HEALTHFIT_FIT_SPORT\",\n",
    "    \"metadata_HEALTHFIT_FIT_SUB_SPORT\",\n",
    "    \"metadata_HEALTHFIT_MAX_ALTITUDE\",\n",
    "    \"metadata_HEALTHFIT_FIT_MANUFACTURER\",\n",
    "    \"metadata_HEALTHFIT_TOTAL_STRIDES\",\n",
    "    \"metadata_HEALTHFIT_FIT_SERIAL_NUMBER\",\n",
    "    \"metadata_HEALTHFIT_SPORT\",\n",
    "    \"metadata_HKAverageSpeed\",\n",
    "    \"metadata_HEALTHFIT_APP_VERSION\",\n",
    "    \"metadata_HKExternalUUID\",\n",
    "    \"metadata_HKElevationDescended\",\n",
    "    \"metadata_HKLapLength\",\n",
    "]"
   ]
  },
  {
   "cell_type": "code",
   "execution_count": null,
   "metadata": {},
   "outputs": [],
   "source": [
    "workouts_df.drop(labels=drop_cols, axis=1, inplace=True)"
   ]
  },
  {
   "cell_type": "code",
   "execution_count": null,
   "metadata": {},
   "outputs": [],
   "source": [
    "workouts_df"
   ]
  },
  {
   "cell_type": "code",
   "execution_count": null,
   "metadata": {},
   "outputs": [],
   "source": [
    "walk_id = con.sql(camino_sql.replace(\"*\", \"id\")).to_df()"
   ]
  },
  {
   "cell_type": "code",
   "execution_count": null,
   "metadata": {},
   "outputs": [],
   "source": [
    "walk_ids = walk_id[\"id\"].values.tolist()"
   ]
  },
  {
   "cell_type": "code",
   "execution_count": null,
   "metadata": {},
   "outputs": [],
   "source": [
    "walk_ids.pop(0)  # Evening walk in San Sebastin"
   ]
  },
  {
   "cell_type": "code",
   "execution_count": null,
   "metadata": {},
   "outputs": [],
   "source": [
    "bilbao_df[\"id\"].iloc[0]"
   ]
  },
  {
   "cell_type": "code",
   "execution_count": null,
   "metadata": {},
   "outputs": [],
   "source": [
    "walk_ids.append(bilbao_df[\"id\"].iloc[0])"
   ]
  },
  {
   "cell_type": "code",
   "execution_count": null,
   "metadata": {},
   "outputs": [],
   "source": [
    "walk_sql = \"SELECT * FROM workout_points WHERE workout_id = 'WORKOUT_ID'\""
   ]
  },
  {
   "cell_type": "code",
   "execution_count": null,
   "metadata": {},
   "outputs": [],
   "source": [
    "m = folium.Map(location=[43.3183, -1.9812], zoom_start=12, tiles=\"openstreetmap\")"
   ]
  },
  {
   "cell_type": "code",
   "execution_count": null,
   "metadata": {},
   "outputs": [],
   "source": [
    "def update_map(m, df):\n",
    "    points = df[[\"latitude\", \"longitude\"]].values.tolist()\n",
    "    folium.PolyLine(points, color=\"blue\", weight=3.5, opacity=1).add_to(m)\n",
    "    folium.Marker([df[\"latitude\"].iloc[0], df[\"longitude\"].iloc[0]]).add_to(m)\n",
    "    return m"
   ]
  },
  {
   "cell_type": "code",
   "execution_count": null,
   "metadata": {},
   "outputs": [],
   "source": [
    "for id in walk_ids:\n",
    "    # TODO: Adjust SQL to only get Camino walks (plus extra in Bilbao) - DONE\n",
    "    print(f\"Getting data for walk ID: {id}\")\n",
    "    walk_df = con.sql(walk_sql.replace(\"WORKOUT_ID\", id)).to_df()\n",
    "    # TODO: Cache / preprocess the walk data\n",
    "    m = update_map(m, walk_df)\n",
    "m.fit_bounds(m.get_bounds())"
   ]
  },
  {
   "cell_type": "code",
   "execution_count": null,
   "metadata": {},
   "outputs": [],
   "source": [
    "m"
   ]
  },
  {
   "cell_type": "code",
   "execution_count": null,
   "metadata": {},
   "outputs": [],
   "source": []
  }
 ],
 "metadata": {
  "kernelspec": {
   "display_name": ".venv",
   "language": "python",
   "name": "python3"
  },
  "language_info": {
   "codemirror_mode": {
    "name": "ipython",
    "version": 3
   },
   "file_extension": ".py",
   "mimetype": "text/x-python",
   "name": "python",
   "nbconvert_exporter": "python",
   "pygments_lexer": "ipython3",
   "version": "3.11.6"
  }
 },
 "nbformat": 4,
 "nbformat_minor": 2
}
